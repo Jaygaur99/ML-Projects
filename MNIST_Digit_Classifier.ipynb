{
  "nbformat": 4,
  "nbformat_minor": 0,
  "metadata": {
    "colab": {
      "name": "MNIST_Classifier.ipynb",
      "provenance": [],
      "collapsed_sections": []
    },
    "kernelspec": {
      "name": "python3",
      "display_name": "Python 3"
    },
    "language_info": {
      "name": "python"
    },
    "accelerator": "GPU"
  },
  "cells": [
    {
      "cell_type": "markdown",
      "metadata": {
        "id": "vX7cWZZlI7u3"
      },
      "source": [
        "# MNIST Digit Classifier"
      ]
    },
    {
      "cell_type": "markdown",
      "metadata": {
        "id": "da03o33sJSH3"
      },
      "source": [
        "## Importing the libraries"
      ]
    },
    {
      "cell_type": "code",
      "metadata": {
        "id": "_oxfbD52IgdH"
      },
      "source": [
        "import numpy as np \n",
        "import pandas as pd\n",
        "import matplotlib.pyplot as plt\n",
        "import matplotlib as mpl\n",
        "import seaborn as sns\n",
        "import tensorflow as tf\n",
        "from tensorflow.keras import layers, Model\n",
        "from tensorflow.keras.datasets import mnist"
      ],
      "execution_count": null,
      "outputs": []
    },
    {
      "cell_type": "markdown",
      "metadata": {
        "id": "kPHOFRJYKjU3"
      },
      "source": [
        "## Importing the dataset"
      ]
    },
    {
      "cell_type": "code",
      "metadata": {
        "colab": {
          "base_uri": "https://localhost:8080/"
        },
        "id": "ZtYVM-92I7Bp",
        "outputId": "6704e474-cfa4-4f24-8fda-1f139d35a7b7"
      },
      "source": [
        "# Import the dataset\n",
        "(X_train, y_train), (X_test, y_test) = mnist.load_data()"
      ],
      "execution_count": null,
      "outputs": [
        {
          "output_type": "stream",
          "name": "stdout",
          "text": [
            "Downloading data from https://storage.googleapis.com/tensorflow/tf-keras-datasets/mnist.npz\n",
            "11493376/11490434 [==============================] - 0s 0us/step\n",
            "11501568/11490434 [==============================] - 0s 0us/step\n"
          ]
        }
      ]
    },
    {
      "cell_type": "markdown",
      "metadata": {
        "id": "7KN2C4JaMsd-"
      },
      "source": [
        "## Exploring the dataset"
      ]
    },
    {
      "cell_type": "code",
      "metadata": {
        "colab": {
          "base_uri": "https://localhost:8080/"
        },
        "id": "d0dIWVbqLWDo",
        "outputId": "a4a5a484-4fcc-4670-ae80-ec7babc3939a"
      },
      "source": [
        "X_train.shape, y_train.shape, X_test.shape, y_test.shape"
      ],
      "execution_count": null,
      "outputs": [
        {
          "output_type": "execute_result",
          "data": {
            "text/plain": [
              "((60000, 28, 28), (60000,), (10000, 28, 28), (10000,))"
            ]
          },
          "metadata": {},
          "execution_count": 3
        }
      ]
    },
    {
      "cell_type": "code",
      "metadata": {
        "colab": {
          "base_uri": "https://localhost:8080/",
          "height": 248
        },
        "id": "dX18MmLUMfvH",
        "outputId": "a329986e-c61a-41ae-bea3-4077ddf7b29d"
      },
      "source": [
        "plt.imshow(X_train[0], cmap=mpl.cm.binary)\n",
        "plt.axis('off')\n",
        "plt.show()"
      ],
      "execution_count": null,
      "outputs": [
        {
          "output_type": "display_data",
          "data": {
            "image/png": "[encoded data removed]",
            "text/plain": [
              "<Figure size 432x288 with 1 Axes>"
            ]
          },
          "metadata": {
            "needs_background": "light"
          }
        }
      ]
    },
    {
      "cell_type": "markdown",
      "metadata": {
        "id": "rKk7J5kwNtV2"
      },
      "source": [
        "## Prepare data for our CNN Model"
      ]
    },
    {
      "cell_type": "code",
      "metadata": {
        "colab": {
          "base_uri": "https://localhost:8080/"
        },
        "id": "wyrup5zPMlIV",
        "outputId": "25084aa0-e051-464d-bdbe-a7db75c499cc"
      },
      "source": [
        "# Rescaling the data\n",
        "X_train = X_train / 255.0\n",
        "X_test = X_test / 255.0\n",
        "\n",
        "# Reshaping the dataset so that it can be fit to keras API\n",
        "X_train = X_train.reshape(X_train.shape[0], 28, 28, 1)\n",
        "X_test = X_test.reshape(X_test.shape[0], 28, 28, 1)\n",
        "\n",
        "input_shape = X_train.shape[0] # (28, 28, 1)\n",
        "\n",
        "X_train = X_train.astype('float32')\n",
        "X_test = X_test.astype('float32')\n",
        "\n",
        "print('X_train shape:', X_train.shape)\n",
        "print('Number of images in X_train', X_train.shape[0])\n",
        "print('Number of images in X_test', X_test.shape[0])"
      ],
      "execution_count": null,
      "outputs": [
        {
          "output_type": "stream",
          "name": "stdout",
          "text": [
            "X_train shape: (60000, 28, 28, 1)\n",
            "Number of images in X_train 60000\n",
            "Number of images in X_test 10000\n"
          ]
        }
      ]
    },
    {
      "cell_type": "markdown",
      "metadata": {
        "id": "RjUoj31aP-lE"
      },
      "source": [
        "## Preparing fast datasets for model"
      ]
    },
    {
      "cell_type": "code",
      "metadata": {
        "colab": {
          "base_uri": "https://localhost:8080/"
        },
        "id": "BHyXHkh0P8l1",
        "outputId": "02a1220a-7a2c-4b26-db1f-e1251c070f14"
      },
      "source": [
        "# Create fast datasets with tf.data API\n",
        "train_features = tf.data.Dataset.from_tensor_slices(X_train)\n",
        "train_labels = tf.data.Dataset.from_tensor_slices(y_train)\n",
        "test_features = tf.data.Dataset.from_tensor_slices(X_test)\n",
        "test_labels = tf.data.Dataset.from_tensor_slices(y_test)\n",
        "\n",
        "# Zipping the datasets\n",
        "train_dataset = tf.data.Dataset.zip((train_features, train_labels)).batch(256).prefetch(tf.data.AUTOTUNE)\n",
        "test_dataset = tf.data.Dataset.zip((test_features, test_labels)).batch(256).prefetch(tf.data.AUTOTUNE)\n",
        "\n",
        "train_dataset, test_dataset"
      ],
      "execution_count": null,
      "outputs": [
        {
          "output_type": "execute_result",
          "data": {
            "text/plain": [
              "(<PrefetchDataset shapes: ((None, 28, 28, 1), (None,)), types: (tf.float32, tf.uint8)>,\n",
              " <PrefetchDataset shapes: ((None, 28, 28, 1), (None,)), types: (tf.float32, tf.uint8)>)"
            ]
          },
          "metadata": {},
          "execution_count": 9
        }
      ]
    },
    {
      "cell_type": "markdown",
      "metadata": {
        "id": "Sc1pFh5ENpzd"
      },
      "source": [
        "## Buliding our CNN Model"
      ]
    },
    {
      "cell_type": "code",
      "metadata": {
        "id": "9Njh9lKkN08u"
      },
      "source": [
        "model = tf.keras.models.Sequential([\n",
        "    layers.Conv2D(filters=32,\n",
        "                  kernel_size=(3, 3),\n",
        "                  strides=1, \n",
        "                  activation='relu', \n",
        "                  input_shape=(28, 28, 1)), \n",
        "    layers.MaxPooling2D(), \n",
        "    layers.Flatten(),\n",
        "    layers.Dense(128, activation='relu'), \n",
        "    layers.Dropout(0.2),\n",
        "    layers.Dense(10, activation='softmax')\n",
        "])"
      ],
      "execution_count": null,
      "outputs": []
    },
    {
      "cell_type": "code",
      "metadata": {
        "colab": {
          "base_uri": "https://localhost:8080/"
        },
        "id": "4KqPLgCrSSYU",
        "outputId": "3bbb5c09-d19c-4492-e9b6-d28f5b2add54"
      },
      "source": [
        "model.summary()"
      ],
      "execution_count": null,
      "outputs": [
        {
          "output_type": "stream",
          "name": "stdout",
          "text": [
            "Model: \"sequential_1\"\n",
            "_________________________________________________________________\n",
            "Layer (type)                 Output Shape              Param #   \n",
            "=================================================================\n",
            "conv2d_1 (Conv2D)            (None, 26, 26, 32)        320       \n",
            "_________________________________________________________________\n",
            "max_pooling2d_1 (MaxPooling2 (None, 13, 13, 32)        0         \n",
            "_________________________________________________________________\n",
            "flatten_1 (Flatten)          (None, 5408)              0         \n",
            "_________________________________________________________________\n",
            "dense_2 (Dense)              (None, 128)               692352    \n",
            "_________________________________________________________________\n",
            "dropout_1 (Dropout)          (None, 128)               0         \n",
            "_________________________________________________________________\n",
            "dense_3 (Dense)              (None, 10)                1290      \n",
            "=================================================================\n",
            "Total params: 693,962\n",
            "Trainable params: 693,962\n",
            "Non-trainable params: 0\n",
            "_________________________________________________________________\n"
          ]
        }
      ]
    },
    {
      "cell_type": "markdown",
      "metadata": {
        "id": "HlevNs6KPG_u"
      },
      "source": [
        "## Compiling and Fitting the model"
      ]
    },
    {
      "cell_type": "code",
      "metadata": {
        "colab": {
          "base_uri": "https://localhost:8080/"
        },
        "id": "KnfWpAfCPMLk",
        "outputId": "7b7c0f1c-a646-449d-c697-7b7dde37dff6"
      },
      "source": [
        "model.compile(loss='sparse_categorical_crossentropy',\n",
        "              optimizer=tf.keras.optimizers.Adam(), \n",
        "              metrics=['accuracy'])\n",
        "history = model.fit(train_dataset,\n",
        "                    epochs=10,\n",
        "                    validation_data=test_dataset, \n",
        "                    validation_steps=(0.1 * len(test_dataset)), \n",
        "                    callbacks=tf.keras.callbacks.ModelCheckpoint(filepath='./Model_MNIST_Classifier/',\n",
        "                                                                 save_best_only=True))"
      ],
      "execution_count": null,
      "outputs": [
        {
          "output_type": "stream",
          "name": "stdout",
          "text": [
            "Epoch 1/10\n",
            "235/235 [==============================] - 3s 9ms/step - loss: 0.0026 - accuracy: 0.9992 - val_loss: 0.0871 - val_accuracy: 0.9795\n",
            "INFO:tensorflow:Assets written to: ./Model_MNIST_Classifier/assets\n",
            "Epoch 2/10\n",
            "235/235 [==============================] - 2s 8ms/step - loss: 0.0035 - accuracy: 0.9988 - val_loss: 0.0584 - val_accuracy: 0.9844\n",
            "INFO:tensorflow:Assets written to: ./Model_MNIST_Classifier/assets\n",
            "Epoch 3/10\n",
            "235/235 [==============================] - 2s 8ms/step - loss: 0.0032 - accuracy: 0.9989 - val_loss: 0.0661 - val_accuracy: 0.9854\n",
            "Epoch 4/10\n",
            "235/235 [==============================] - 2s 8ms/step - loss: 0.0025 - accuracy: 0.9993 - val_loss: 0.0863 - val_accuracy: 0.9814\n",
            "Epoch 5/10\n",
            "235/235 [==============================] - 2s 8ms/step - loss: 0.0022 - accuracy: 0.9993 - val_loss: 0.0690 - val_accuracy: 0.9834\n",
            "Epoch 6/10\n",
            "235/235 [==============================] - 2s 8ms/step - loss: 0.0021 - accuracy: 0.9994 - val_loss: 0.0856 - val_accuracy: 0.9863\n",
            "Epoch 7/10\n",
            "235/235 [==============================] - 2s 8ms/step - loss: 0.0028 - accuracy: 0.9990 - val_loss: 0.0869 - val_accuracy: 0.9824\n",
            "Epoch 8/10\n",
            "235/235 [==============================] - 2s 8ms/step - loss: 0.0032 - accuracy: 0.9988 - val_loss: 0.0650 - val_accuracy: 0.9814\n",
            "Epoch 9/10\n",
            "235/235 [==============================] - 2s 8ms/step - loss: 0.0030 - accuracy: 0.9991 - val_loss: 0.0625 - val_accuracy: 0.9834\n",
            "Epoch 10/10\n",
            "235/235 [==============================] - 2s 8ms/step - loss: 0.0026 - accuracy: 0.9991 - val_loss: 0.0705 - val_accuracy: 0.9863\n"
          ]
        }
      ]
    },
    {
      "cell_type": "markdown",
      "metadata": {
        "id": "GcbQu2kyPnc2"
      },
      "source": [
        "## Evaluating the Model"
      ]
    },
    {
      "cell_type": "code",
      "metadata": {
        "id": "1hOW8gmOTy5s"
      },
      "source": [
        "# Restoring the best model\n",
        "model = tf.keras.models.load_model('Model_MNIST_Classifier')"
      ],
      "execution_count": null,
      "outputs": []
    },
    {
      "cell_type": "code",
      "metadata": {
        "colab": {
          "base_uri": "https://localhost:8080/"
        },
        "id": "_Vp4kmUwRxil",
        "outputId": "9268cac1-2b81-4f05-ed28-cd7d38ee997f"
      },
      "source": [
        "# Evaluate the model\n",
        "model.evaluate(test_dataset)"
      ],
      "execution_count": null,
      "outputs": [
        {
          "output_type": "stream",
          "name": "stdout",
          "text": [
            "40/40 [==============================] - 0s 5ms/step - loss: 0.0535 - accuracy: 0.9888\n"
          ]
        },
        {
          "output_type": "execute_result",
          "data": {
            "text/plain": [
              "[0.05346674099564552, 0.9887999892234802]"
            ]
          },
          "metadata": {},
          "execution_count": 27
        }
      ]
    },
    {
      "cell_type": "code",
      "metadata": {
        "id": "cWMeQm1lSkP8"
      },
      "source": [
        "# Creating a function to plot loss and accuracy curves\n",
        "def plot_loss_curves(history):\n",
        "    \"\"\"\n",
        "    Return separate loss curves for training and validation metrics\n",
        "    \"\"\"\n",
        "    loss = history.history['loss']\n",
        "    val_loss = history.history['val_loss']\n",
        "\n",
        "    accuracy = history.history['accuracy']\n",
        "    val_accuracy = history.history['val_accuracy']\n",
        "\n",
        "    epochs = range(len(history.history['loss']))\n",
        "\n",
        "    # Plot loss\n",
        "    plt.plot(epochs, loss, label='training_loss')\n",
        "    plt.plot(epochs, val_loss, label='val_loss')\n",
        "    plt.title('loss')\n",
        "    plt.xlabel('epochs')\n",
        "    plt.legend()\n",
        "\n",
        "    # Plot accuracy\n",
        "    plt.figure()\n",
        "    plt.plot(epochs, accuracy, label='training_accuracy')\n",
        "    plt.plot(epochs, val_accuracy, label='val_accuracy')\n",
        "    plt.title('accuracy')\n",
        "    plt.xlabel('epochs')\n",
        "    plt.legend()"
      ],
      "execution_count": null,
      "outputs": []
    },
    {
      "cell_type": "code",
      "metadata": {
        "colab": {
          "base_uri": "https://localhost:8080/",
          "height": 573
        },
        "id": "etJoNVrwR9gE",
        "outputId": "f54d77ae-ef9b-4d77-c2da-51247f9b712d"
      },
      "source": [
        "plot_loss_curves(history)"
      ],
      "execution_count": null,
      "outputs": [
        {
          "output_type": "display_data",
          "data": {
            "image/png": "[encoded data removed]",
            "text/plain": [
              "<Figure size 432x288 with 1 Axes>"
            ]
          },
          "metadata": {
            "needs_background": "light"
          }
        },
        {
          "output_type": "display_data",
          "data": {
            "image/png": "[encoded data removed]",
            "text/plain": [
              "<Figure size 432x288 with 1 Axes>"
            ]
          },
          "metadata": {
            "needs_background": "light"
          }
        }
      ]
    },
    {
      "cell_type": "code",
      "metadata": {
        "colab": {
          "base_uri": "https://localhost:8080/"
        },
        "id": "tF-trnrWSbZ9",
        "outputId": "444c057a-4de7-4e62-a7bb-5caef00c6edd"
      },
      "source": [
        "# Prediction probabilites\n",
        "y_pred_probs = model.predict(X_test)\n",
        "y_pred_probs, y_pred_probs.shape"
      ],
      "execution_count": null,
      "outputs": [
        {
          "output_type": "execute_result",
          "data": {
            "text/plain": [
              "(array([[5.2060888e-17, 1.1468743e-13, 1.9418110e-13, ..., 1.0000000e+00,\n",
              "         7.5086893e-13, 5.4511995e-14],\n",
              "        [9.9041326e-14, 1.8992305e-08, 1.0000000e+00, ..., 1.7166212e-18,\n",
              "         3.2281475e-13, 1.0140919e-20],\n",
              "        [1.8140824e-10, 1.0000000e+00, 1.0377107e-09, ..., 2.7584479e-10,\n",
              "         2.1883368e-08, 7.7494822e-16],\n",
              "        ...,\n",
              "        [1.9406325e-29, 8.9878964e-19, 1.1143735e-21, ..., 5.0814200e-16,\n",
              "         1.1521428e-13, 8.7881210e-15],\n",
              "        [4.2262878e-19, 6.1501776e-18, 8.5163629e-25, ..., 3.9392737e-19,\n",
              "         3.9378683e-08, 6.6422934e-19],\n",
              "        [2.3904037e-18, 5.1151281e-22, 3.8706454e-13, ..., 8.3055189e-23,\n",
              "         4.2150931e-14, 9.2242444e-24]], dtype=float32), (10000, 10))"
            ]
          },
          "metadata": {},
          "execution_count": 35
        }
      ]
    },
    {
      "cell_type": "code",
      "metadata": {
        "colab": {
          "base_uri": "https://localhost:8080/"
        },
        "id": "uGVgUP_PUM_y",
        "outputId": "94a48da9-83c8-46fc-9185-44b6c65e40e8"
      },
      "source": [
        "# Converting prediction probabilities into predictions\n",
        "y_preds = tf.argmax(y_pred_probs, axis=1)\n",
        "y_preds, y_preds.shape"
      ],
      "execution_count": null,
      "outputs": [
        {
          "output_type": "execute_result",
          "data": {
            "text/plain": [
              "(<tf.Tensor: shape=(10000,), dtype=int64, numpy=array([7, 2, 1, ..., 4, 5, 6])>,\n",
              " TensorShape([10000]))"
            ]
          },
          "metadata": {},
          "execution_count": 39
        }
      ]
    },
    {
      "cell_type": "code",
      "metadata": {
        "colab": {
          "base_uri": "https://localhost:8080/"
        },
        "id": "DeecIOs7URqZ",
        "outputId": "908bf138-f0d4-4612-d12a-3e318f27c60e"
      },
      "source": [
        "from sklearn.metrics import confusion_matrix\n",
        "cm = confusion_matrix(y_test, y_preds)\n",
        "cm"
      ],
      "execution_count": null,
      "outputs": [
        {
          "output_type": "execute_result",
          "data": {
            "text/plain": [
              "array([[ 970,    1,    0,    0,    1,    0,    4,    0,    3,    1],\n",
              "       [   0, 1132,    0,    1,    0,    0,    1,    1,    0,    0],\n",
              "       [   2,    3, 1014,    0,    1,    0,    0,    6,    6,    0],\n",
              "       [   0,    0,    2, 1001,    0,    3,    0,    0,    4,    0],\n",
              "       [   0,    0,    0,    0,  972,    0,    3,    0,    1,    6],\n",
              "       [   1,    0,    1,    5,    0,  881,    2,    0,    1,    1],\n",
              "       [   3,    2,    0,    0,    1,    1,  949,    0,    2,    0],\n",
              "       [   0,    1,    7,    0,    0,    0,    0, 1017,    2,    1],\n",
              "       [   2,    1,    2,    1,    0,    0,    0,    2,  964,    2],\n",
              "       [   0,    1,    0,    2,   11,    1,    0,    2,    4,  988]])"
            ]
          },
          "metadata": {},
          "execution_count": 42
        }
      ]
    },
    {
      "cell_type": "code",
      "metadata": {
        "colab": {
          "base_uri": "https://localhost:8080/",
          "height": 1000
        },
        "id": "0CKKoqX0VHx8",
        "outputId": "0d61079c-9af2-4663-9c07-481360525832"
      },
      "source": [
        "plt.figure(figsize=(20, 20))\n",
        "sns.heatmap(cm, annot=True, fmt='g', cmap='rocket')\n",
        "plt.show()"
      ],
      "execution_count": null,
      "outputs": [
        {
          "output_type": "display_data",
          "data": {
            "image/png": "[encoded data removed]",
            "text/plain": [
              "<Figure size 1440x1440 with 2 Axes>"
            ]
          },
          "metadata": {
            "needs_background": "light"
          }
        }
      ]
    },
    {
      "cell_type": "code",
      "metadata": {
        "colab": {
          "base_uri": "https://localhost:8080/"
        },
        "id": "evZXyNseVmz7",
        "outputId": "50e258ff-5f49-4d4f-aacd-b0e8d68284c9"
      },
      "source": [
        "np.unique(y_test, return_counts=True)"
      ],
      "execution_count": null,
      "outputs": [
        {
          "output_type": "execute_result",
          "data": {
            "text/plain": [
              "(array([0, 1, 2, 3, 4, 5, 6, 7, 8, 9], dtype=uint8),\n",
              " array([ 980, 1135, 1032, 1010,  982,  892,  958, 1028,  974, 1009]))"
            ]
          },
          "metadata": {},
          "execution_count": 53
        }
      ]
    },
    {
      "cell_type": "code",
      "metadata": {
        "colab": {
          "base_uri": "https://localhost:8080/"
        },
        "id": "lDmS3cLdWJWT",
        "outputId": "68bcec9d-f9ed-4c5f-dd73-51b474f12465"
      },
      "source": [
        "model.save('/content/drive/MyDrive/Colab Notebooks/Models/MNIST_Digit_Classifier')"
      ],
      "execution_count": null,
      "outputs": [
        {
          "output_type": "stream",
          "name": "stdout",
          "text": [
            "INFO:tensorflow:Assets written to: /content/drive/MyDrive/Colab Notebooks/Models/MNIST_Digit_Classifier/assets\n"
          ]
        }
      ]
    },
    {
      "cell_type": "code",
      "metadata": {
        "id": "H9LRvYJXWuP7"
      },
      "source": [
        ""
      ],
      "execution_count": null,
      "outputs": []
    }
  ]
}