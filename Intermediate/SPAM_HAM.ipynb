{
  "nbformat": 4,
  "nbformat_minor": 0,
  "metadata": {
    "colab": {
      "name": "SPAM_HAM.ipynb",
      "provenance": [],
      "collapsed_sections": []
    },
    "kernelspec": {
      "name": "python3",
      "display_name": "Python 3"
    },
    "language_info": {
      "name": "python"
    }
  },
  "cells": [
    {
      "cell_type": "markdown",
      "metadata": {
        "id": "DkF6XOdozznf"
      },
      "source": [
        "## Spam Ham Classifier"
      ]
    },
    {
      "cell_type": "markdown",
      "metadata": {
        "id": "uuhu3m9cz1o_"
      },
      "source": [
        "### Importing the liberaries"
      ]
    },
    {
      "cell_type": "code",
      "metadata": {
        "id": "GzknA2GMyOo_"
      },
      "source": [
        "import numpy as np\n",
        "import random\n",
        "import pandas as pd\n",
        "import matplotlib.pyplot as plt\n",
        "import seaborn as sns\n",
        "import tensorflow as tf\n",
        "from tensorflow.keras import layers, Model\n",
        "from tensorflow.keras.preprocessing.text import Tokenizer\n",
        "from sklearn.model_selection import train_test_split \n",
        "from sklearn.metrics import confusion_matrix\n",
        "from sklearn.preprocessing import LabelEncoder"
      ],
      "execution_count": null,
      "outputs": []
    },
    {
      "cell_type": "markdown",
      "metadata": {
        "id": "Iw8S3QuKyJtp"
      },
      "source": [
        "### Importing the datasset"
      ]
    },
    {
      "cell_type": "code",
      "metadata": {
        "colab": {
          "base_uri": "https://localhost:8080/",
          "height": 424
        },
        "id": "gjrad9aX0E53",
        "outputId": "eb88c309-bfe4-4218-a344-e53166c29ef0"
      },
      "source": [
        "df = pd.read_csv('spam.csv', encoding=('ISO-8859-1'))\n",
        "df"
      ],
      "execution_count": null,
      "outputs": [
        {
          "output_type": "execute_result",
          "data": {
            "text/html": [
              "<div>\n",
              "<style scoped>\n",
              "    .dataframe tbody tr th:only-of-type {\n",
              "        vertical-align: middle;\n",
              "    }\n",
              "\n",
              "    .dataframe tbody tr th {\n",
              "        vertical-align: top;\n",
              "    }\n",
              "\n",
              "    .dataframe thead th {\n",
              "        text-align: right;\n",
              "    }\n",
              "</style>\n",
              "<table border=\"1\" class=\"dataframe\">\n",
              "  <thead>\n",
              "    <tr style=\"text-align: right;\">\n",
              "      <th></th>\n",
              "      <th>v1</th>\n",
              "      <th>v2</th>\n",
              "      <th>Unnamed: 2</th>\n",
              "      <th>Unnamed: 3</th>\n",
              "      <th>Unnamed: 4</th>\n",
              "    </tr>\n",
              "  </thead>\n",
              "  <tbody>\n",
              "    <tr>\n",
              "      <th>0</th>\n",
              "      <td>ham</td>\n",
              "      <td>Go until jurong point, crazy.. Available only ...</td>\n",
              "      <td>NaN</td>\n",
              "      <td>NaN</td>\n",
              "      <td>NaN</td>\n",
              "    </tr>\n",
              "    <tr>\n",
              "      <th>1</th>\n",
              "      <td>ham</td>\n",
              "      <td>Ok lar... Joking wif u oni...</td>\n",
              "      <td>NaN</td>\n",
              "      <td>NaN</td>\n",
              "      <td>NaN</td>\n",
              "    </tr>\n",
              "    <tr>\n",
              "      <th>2</th>\n",
              "      <td>spam</td>\n",
              "      <td>Free entry in 2 a wkly comp to win FA Cup fina...</td>\n",
              "      <td>NaN</td>\n",
              "      <td>NaN</td>\n",
              "      <td>NaN</td>\n",
              "    </tr>\n",
              "    <tr>\n",
              "      <th>3</th>\n",
              "      <td>ham</td>\n",
              "      <td>U dun say so early hor... U c already then say...</td>\n",
              "      <td>NaN</td>\n",
              "      <td>NaN</td>\n",
              "      <td>NaN</td>\n",
              "    </tr>\n",
              "    <tr>\n",
              "      <th>4</th>\n",
              "      <td>ham</td>\n",
              "      <td>Nah I don't think he goes to usf, he lives aro...</td>\n",
              "      <td>NaN</td>\n",
              "      <td>NaN</td>\n",
              "      <td>NaN</td>\n",
              "    </tr>\n",
              "    <tr>\n",
              "      <th>...</th>\n",
              "      <td>...</td>\n",
              "      <td>...</td>\n",
              "      <td>...</td>\n",
              "      <td>...</td>\n",
              "      <td>...</td>\n",
              "    </tr>\n",
              "    <tr>\n",
              "      <th>5567</th>\n",
              "      <td>spam</td>\n",
              "      <td>This is the 2nd time we have tried 2 contact u...</td>\n",
              "      <td>NaN</td>\n",
              "      <td>NaN</td>\n",
              "      <td>NaN</td>\n",
              "    </tr>\n",
              "    <tr>\n",
              "      <th>5568</th>\n",
              "      <td>ham</td>\n",
              "      <td>Will Ì_ b going to esplanade fr home?</td>\n",
              "      <td>NaN</td>\n",
              "      <td>NaN</td>\n",
              "      <td>NaN</td>\n",
              "    </tr>\n",
              "    <tr>\n",
              "      <th>5569</th>\n",
              "      <td>ham</td>\n",
              "      <td>Pity, * was in mood for that. So...any other s...</td>\n",
              "      <td>NaN</td>\n",
              "      <td>NaN</td>\n",
              "      <td>NaN</td>\n",
              "    </tr>\n",
              "    <tr>\n",
              "      <th>5570</th>\n",
              "      <td>ham</td>\n",
              "      <td>The guy did some bitching but I acted like i'd...</td>\n",
              "      <td>NaN</td>\n",
              "      <td>NaN</td>\n",
              "      <td>NaN</td>\n",
              "    </tr>\n",
              "    <tr>\n",
              "      <th>5571</th>\n",
              "      <td>ham</td>\n",
              "      <td>Rofl. Its true to its name</td>\n",
              "      <td>NaN</td>\n",
              "      <td>NaN</td>\n",
              "      <td>NaN</td>\n",
              "    </tr>\n",
              "  </tbody>\n",
              "</table>\n",
              "<p>5572 rows × 5 columns</p>\n",
              "</div>"
            ],
            "text/plain": [
              "        v1  ... Unnamed: 4\n",
              "0      ham  ...        NaN\n",
              "1      ham  ...        NaN\n",
              "2     spam  ...        NaN\n",
              "3      ham  ...        NaN\n",
              "4      ham  ...        NaN\n",
              "...    ...  ...        ...\n",
              "5567  spam  ...        NaN\n",
              "5568   ham  ...        NaN\n",
              "5569   ham  ...        NaN\n",
              "5570   ham  ...        NaN\n",
              "5571   ham  ...        NaN\n",
              "\n",
              "[5572 rows x 5 columns]"
            ]
          },
          "metadata": {},
          "execution_count": 11
        }
      ]
    },
    {
      "cell_type": "code",
      "metadata": {
        "colab": {
          "base_uri": "https://localhost:8080/",
          "height": 530
        },
        "id": "ThTe3pnD1sGf",
        "outputId": "cc2f7655-be23-44a2-fc74-edf5504b4e4e"
      },
      "source": [
        "# Get only necessary columns for Processing and drop unnecessary columns\n",
        "dataset = df[['v1', 'v2']]\n",
        "dataset.rename(columns={'v1': 'target', 'v2': 'sentence'}, inplace=True)\n",
        "dataset"
      ],
      "execution_count": null,
      "outputs": [
        {
          "output_type": "stream",
          "name": "stderr",
          "text": [
            "/usr/local/lib/python3.7/dist-packages/pandas/core/frame.py:4308: SettingWithCopyWarning: \n",
            "A value is trying to be set on a copy of a slice from a DataFrame\n",
            "\n",
            "See the caveats in the documentation: https://pandas.pydata.org/pandas-docs/stable/user_guide/indexing.html#returning-a-view-versus-a-copy\n",
            "  errors=errors,\n"
          ]
        },
        {
          "output_type": "execute_result",
          "data": {
            "text/html": [
              "<div>\n",
              "<style scoped>\n",
              "    .dataframe tbody tr th:only-of-type {\n",
              "        vertical-align: middle;\n",
              "    }\n",
              "\n",
              "    .dataframe tbody tr th {\n",
              "        vertical-align: top;\n",
              "    }\n",
              "\n",
              "    .dataframe thead th {\n",
              "        text-align: right;\n",
              "    }\n",
              "</style>\n",
              "<table border=\"1\" class=\"dataframe\">\n",
              "  <thead>\n",
              "    <tr style=\"text-align: right;\">\n",
              "      <th></th>\n",
              "      <th>target</th>\n",
              "      <th>sentence</th>\n",
              "    </tr>\n",
              "  </thead>\n",
              "  <tbody>\n",
              "    <tr>\n",
              "      <th>0</th>\n",
              "      <td>ham</td>\n",
              "      <td>Go until jurong point, crazy.. Available only ...</td>\n",
              "    </tr>\n",
              "    <tr>\n",
              "      <th>1</th>\n",
              "      <td>ham</td>\n",
              "      <td>Ok lar... Joking wif u oni...</td>\n",
              "    </tr>\n",
              "    <tr>\n",
              "      <th>2</th>\n",
              "      <td>spam</td>\n",
              "      <td>Free entry in 2 a wkly comp to win FA Cup fina...</td>\n",
              "    </tr>\n",
              "    <tr>\n",
              "      <th>3</th>\n",
              "      <td>ham</td>\n",
              "      <td>U dun say so early hor... U c already then say...</td>\n",
              "    </tr>\n",
              "    <tr>\n",
              "      <th>4</th>\n",
              "      <td>ham</td>\n",
              "      <td>Nah I don't think he goes to usf, he lives aro...</td>\n",
              "    </tr>\n",
              "    <tr>\n",
              "      <th>...</th>\n",
              "      <td>...</td>\n",
              "      <td>...</td>\n",
              "    </tr>\n",
              "    <tr>\n",
              "      <th>5567</th>\n",
              "      <td>spam</td>\n",
              "      <td>This is the 2nd time we have tried 2 contact u...</td>\n",
              "    </tr>\n",
              "    <tr>\n",
              "      <th>5568</th>\n",
              "      <td>ham</td>\n",
              "      <td>Will Ì_ b going to esplanade fr home?</td>\n",
              "    </tr>\n",
              "    <tr>\n",
              "      <th>5569</th>\n",
              "      <td>ham</td>\n",
              "      <td>Pity, * was in mood for that. So...any other s...</td>\n",
              "    </tr>\n",
              "    <tr>\n",
              "      <th>5570</th>\n",
              "      <td>ham</td>\n",
              "      <td>The guy did some bitching but I acted like i'd...</td>\n",
              "    </tr>\n",
              "    <tr>\n",
              "      <th>5571</th>\n",
              "      <td>ham</td>\n",
              "      <td>Rofl. Its true to its name</td>\n",
              "    </tr>\n",
              "  </tbody>\n",
              "</table>\n",
              "<p>5572 rows × 2 columns</p>\n",
              "</div>"
            ],
            "text/plain": [
              "     target                                           sentence\n",
              "0       ham  Go until jurong point, crazy.. Available only ...\n",
              "1       ham                      Ok lar... Joking wif u oni...\n",
              "2      spam  Free entry in 2 a wkly comp to win FA Cup fina...\n",
              "3       ham  U dun say so early hor... U c already then say...\n",
              "4       ham  Nah I don't think he goes to usf, he lives aro...\n",
              "...     ...                                                ...\n",
              "5567   spam  This is the 2nd time we have tried 2 contact u...\n",
              "5568    ham              Will Ì_ b going to esplanade fr home?\n",
              "5569    ham  Pity, * was in mood for that. So...any other s...\n",
              "5570    ham  The guy did some bitching but I acted like i'd...\n",
              "5571    ham                         Rofl. Its true to its name\n",
              "\n",
              "[5572 rows x 2 columns]"
            ]
          },
          "metadata": {},
          "execution_count": 13
        }
      ]
    },
    {
      "cell_type": "code",
      "metadata": {
        "id": "xvsaO6s72Qf2"
      },
      "source": [
        "# Get X and y\n",
        "X = dataset['sentence'].to_numpy()\n",
        "y = dataset['target'].to_numpy()"
      ],
      "execution_count": null,
      "outputs": []
    },
    {
      "cell_type": "code",
      "metadata": {
        "colab": {
          "base_uri": "https://localhost:8080/"
        },
        "id": "IMPuqmzAA0gr",
        "outputId": "fdc8c9fd-966f-4235-a4e6-ac6ebe672eb7"
      },
      "source": [
        "encoder = LabelEncoder()\n",
        "y = encoder.fit_transform(y) \n",
        "encoder.classes_"
      ],
      "execution_count": null,
      "outputs": [
        {
          "output_type": "execute_result",
          "data": {
            "text/plain": [
              "array(['ham', 'spam'], dtype=object)"
            ]
          },
          "metadata": {},
          "execution_count": 70
        }
      ]
    },
    {
      "cell_type": "markdown",
      "metadata": {
        "id": "xlWfcmrN3HDu"
      },
      "source": [
        "## Creating train, validation and test dataset"
      ]
    },
    {
      "cell_type": "code",
      "metadata": {
        "colab": {
          "base_uri": "https://localhost:8080/"
        },
        "id": "qQtJ9gj_2y_f",
        "outputId": "e3195a06-4647-4484-813e-f7fbb19c415f"
      },
      "source": [
        "X_train, X_test, y_train, y_test = train_test_split(X, y, random_state=42, test_size=0.15)\n",
        "len(X_train), len(X_test), len(y_train), len(y_test)"
      ],
      "execution_count": null,
      "outputs": [
        {
          "output_type": "execute_result",
          "data": {
            "text/plain": [
              "(4736, 836, 4736, 836)"
            ]
          },
          "metadata": {},
          "execution_count": 71
        }
      ]
    },
    {
      "cell_type": "code",
      "metadata": {
        "colab": {
          "base_uri": "https://localhost:8080/"
        },
        "id": "G-sIkHHF4Mee",
        "outputId": "1eeed105-e514-4814-f18d-250d73af573f"
      },
      "source": [
        "X_train, X_val, y_train, y_val = train_test_split(X_train, y_train, random_state=42, test_size=0.1)\n",
        "len(X_train), len(X_val), len(y_train), len(y_val)"
      ],
      "execution_count": null,
      "outputs": [
        {
          "output_type": "execute_result",
          "data": {
            "text/plain": [
              "(4262, 474, 4262, 474)"
            ]
          },
          "metadata": {},
          "execution_count": 72
        }
      ]
    },
    {
      "cell_type": "markdown",
      "metadata": {
        "id": "tkWDXn_r3Vb-"
      },
      "source": [
        "## Exploring the data"
      ]
    },
    {
      "cell_type": "code",
      "metadata": {
        "colab": {
          "base_uri": "https://localhost:8080/"
        },
        "id": "uphZm7m53gwO",
        "outputId": "e37e3fe0-8ef2-4472-c145-2d2ae2153841"
      },
      "source": [
        "# Let's visualize some random training examples\n",
        "for i in range(20):\n",
        "    print(f\"\"\"Sentence Number: {i}\n",
        "    Sentence: {X_train[i]}\n",
        "    Target: {y_train[i]}\"\"\")"
      ],
      "execution_count": null,
      "outputs": [
        {
          "output_type": "stream",
          "name": "stdout",
          "text": [
            "Sentence Number: 0\n",
            "    Sentence: *deep sigh* ... I miss you :-( ... I am really surprised you haven't gone to the net cafe yet to get to me ... Don't you miss me?\n",
            "    Target: 0\n",
            "Sentence Number: 1\n",
            "    Sentence: Dear,Me at cherthala.in case u r coming cochin pls call bfore u start.i shall also reach accordingly.or tell me which day u r coming.tmorow i am engaged ans its holiday.\n",
            "    Target: 0\n",
            "Sentence Number: 2\n",
            "    Sentence: Now only i reached home. . . I am very tired now. . I will come tomorro\n",
            "    Target: 0\n",
            "Sentence Number: 3\n",
            "    Sentence: SIX chances to win CASH! From 100 to 20,000 pounds txt> CSH11 and send to 87575. Cost 150p/day, 6days, 16+ TsandCs apply Reply HL 4 info\n",
            "    Target: 1\n",
            "Sentence Number: 4\n",
            "    Sentence: There'll be a minor shindig at my place later tonight, you interested?\n",
            "    Target: 0\n",
            "Sentence Number: 5\n",
            "    Sentence: Thanx. Yup we coming back on sun. Finish dinner going back 2 hotel now. Time flies, we're tog 4 exactly a mth today. Hope we'll haf many more mths to come...\n",
            "    Target: 0\n",
            "Sentence Number: 6\n",
            "    Sentence: Except theres a chick with huge boobs.\n",
            "    Target: 0\n",
            "Sentence Number: 7\n",
            "    Sentence: As usual..iam fine, happy &amp; doing well..:)\n",
            "    Target: 0\n",
            "Sentence Number: 8\n",
            "    Sentence:  gonna let me know cos comes bak from holiday that day.  is coming. Don't4get2text me  number. \n",
            "    Target: 0\n",
            "Sentence Number: 9\n",
            "    Sentence: Dear Subscriber ur draw 4 å£100 gift voucher will b entered on receipt of a correct ans. When was Elvis Presleys Birthday? TXT answer to 80062\n",
            "    Target: 1\n",
            "Sentence Number: 10\n",
            "    Sentence: Aight, text me tonight and we'll see what's up\n",
            "    Target: 0\n",
            "Sentence Number: 11\n",
            "    Sentence: I'll be late...\n",
            "    Target: 0\n",
            "Sentence Number: 12\n",
            "    Sentence: Check Out Choose Your Babe Videos @ sms.shsex.netUN fgkslpoPW fgkslpo\n",
            "    Target: 1\n",
            "Sentence Number: 13\n",
            "    Sentence: Its ok, if anybody asks abt me, u tel them..:-P\n",
            "    Target: 0\n",
            "Sentence Number: 14\n",
            "    Sentence: Huh so fast... Dat means u havent finished painting?\n",
            "    Target: 0\n",
            "Sentence Number: 15\n",
            "    Sentence: Poor girl can't go one day lmao\n",
            "    Target: 0\n",
            "Sentence Number: 16\n",
            "    Sentence: it's really getting me down just hanging around.\n",
            "    Target: 0\n",
            "Sentence Number: 17\n",
            "    Sentence: I want to lick your pussy now...\n",
            "    Target: 0\n",
            "Sentence Number: 18\n",
            "    Sentence: Surely result will offer:)\n",
            "    Target: 0\n",
            "Sentence Number: 19\n",
            "    Sentence: Aight, sounds good. When do you want me to come down?\n",
            "    Target: 0\n"
          ]
        }
      ]
    },
    {
      "cell_type": "code",
      "metadata": {
        "colab": {
          "base_uri": "https://localhost:8080/"
        },
        "id": "9Us20-ns36VP",
        "outputId": "546172e0-1ae6-4178-8a89-e790005a9483"
      },
      "source": [
        "# Check the number of counts of spam and ham\n",
        "pd.Series(y_train).value_counts()"
      ],
      "execution_count": null,
      "outputs": [
        {
          "output_type": "execute_result",
          "data": {
            "text/plain": [
              "0    3697\n",
              "1     565\n",
              "dtype: int64"
            ]
          },
          "metadata": {},
          "execution_count": 74
        }
      ]
    },
    {
      "cell_type": "markdown",
      "metadata": {
        "id": "83KBRwtW5DmN"
      },
      "source": [
        "## Converting text into numbers"
      ]
    },
    {
      "cell_type": "code",
      "metadata": {
        "colab": {
          "base_uri": "https://localhost:8080/"
        },
        "id": "NWjj7n2t59HF",
        "outputId": "6280385d-4aca-4718-f79c-118d010e94ab"
      },
      "source": [
        "# Find the average number of words in training Data\n",
        "round(sum([len(i.split()) for i in X_train]) / len(X_train))"
      ],
      "execution_count": null,
      "outputs": [
        {
          "output_type": "execute_result",
          "data": {
            "text/plain": [
              "15"
            ]
          },
          "metadata": {},
          "execution_count": 75
        }
      ]
    },
    {
      "cell_type": "code",
      "metadata": {
        "id": "xtSJ-4OH5MCm"
      },
      "source": [
        "# Using TextVectorization layer of keras API for converting text into nunbers\n",
        "max_vocab_length = 10000\n",
        "max_length = 15\n",
        "\n",
        "text_vectorizer = layers.TextVectorization(max_tokens=max_vocab_length, \n",
        "                                           output_mode='int', \n",
        "                                           output_sequence_length=max_length)"
      ],
      "execution_count": null,
      "outputs": []
    },
    {
      "cell_type": "code",
      "metadata": {
        "id": "XSemj8i47ZXU"
      },
      "source": [
        "# Fit the text vectorizer to the training text\n",
        "text_vectorizer.adapt(X_train)"
      ],
      "execution_count": null,
      "outputs": []
    },
    {
      "cell_type": "code",
      "metadata": {
        "colab": {
          "base_uri": "https://localhost:8080/"
        },
        "id": "nLndOzVq7gfE",
        "outputId": "5d98851a-4d57-47a0-f17c-f86d07415ff5"
      },
      "source": [
        "# Choose a random sentence from the training dataset and tokenize it\n",
        "random_sentence = random.choice(X_train)\n",
        "print(f\"Original text:\\n{random_sentence} \\n\\nVectorized version:\")\n",
        "text_vectorizer([random_sentence])"
      ],
      "execution_count": null,
      "outputs": [
        {
          "output_type": "stream",
          "name": "stdout",
          "text": [
            "Original text:\n",
            "Kit Strip - you have been billed 150p. Netcollex Ltd. PO Box 1013 IG11 OJA \n",
            "\n",
            "Vectorized version:\n"
          ]
        },
        {
          "output_type": "execute_result",
          "data": {
            "text/plain": [
              "<tf.Tensor: shape=(1, 15), dtype=int64, numpy=\n",
              "array([[5894, 4376,    4,   18,  100, 3403,  637, 2060,  664,  342,  310,\n",
              "        8053, 6096, 5318,    0]])>"
            ]
          },
          "metadata": {},
          "execution_count": 78
        }
      ]
    },
    {
      "cell_type": "code",
      "metadata": {
        "colab": {
          "base_uri": "https://localhost:8080/"
        },
        "id": "TDrTtGoF7su0",
        "outputId": "c31b7234-e171-41e8-8e6e-c4deacaabc07"
      },
      "source": [
        "# Get the unique words in the vocabulary\n",
        "words_in_vocab = text_vectorizer.get_vocabulary()\n",
        "top_5_words = words_in_vocab[:5]\n",
        "bottom_5_words = words_in_vocab[-5:]\n",
        "print(f\"Number of words in vocab: {len(words_in_vocab)}\")\n",
        "print(f\"Top 5 most common words: {top_5_words}\") \n",
        "print(f\"Bottom 5 least common words: {bottom_5_words}\")"
      ],
      "execution_count": null,
      "outputs": [
        {
          "output_type": "stream",
          "name": "stdout",
          "text": [
            "Number of words in vocab: 8227\n",
            "Top 5 most common words: ['', '[UNK]', 'i', 'to', 'you']\n",
            "Bottom 5 least common words: ['02', '0125698789', '01223585334', '01223585236', '0089my']\n"
          ]
        }
      ]
    },
    {
      "cell_type": "markdown",
      "metadata": {
        "id": "qtTaVLku8Dd9"
      },
      "source": [
        "### Creating an Embedding using an Embedding Layer"
      ]
    },
    {
      "cell_type": "code",
      "metadata": {
        "colab": {
          "base_uri": "https://localhost:8080/"
        },
        "id": "EIXPJhXz8Jgt",
        "outputId": "d6bde917-90d5-4d2c-f7f1-7764b531004c"
      },
      "source": [
        "embedding = layers.Embedding(input_dim=max_vocab_length, \n",
        "                             output_dim=128, \n",
        "                             input_length=max_length)\n",
        "embedding"
      ],
      "execution_count": null,
      "outputs": [
        {
          "output_type": "execute_result",
          "data": {
            "text/plain": [
              "<keras.layers.embeddings.Embedding at 0x7fb9136e1990>"
            ]
          },
          "metadata": {},
          "execution_count": 80
        }
      ]
    },
    {
      "cell_type": "code",
      "metadata": {
        "colab": {
          "base_uri": "https://localhost:8080/"
        },
        "id": "V4BauCmq8V3b",
        "outputId": "22b85f9e-681d-430b-a5e1-66f05aaeb2d0"
      },
      "source": [
        "# # Get a random sentence from training set\n",
        "random_sentence = random.choice(X_train)\n",
        "print(f\"Original text:\\n{random_sentence}\\n\\nEmbedded version:\")\n",
        "\n",
        "# Embed the random sentence (turn it into numerical representation)\n",
        "sample_embed = embedding(text_vectorizer([random_sentence]))\n",
        "sample_embed"
      ],
      "execution_count": null,
      "outputs": [
        {
          "output_type": "stream",
          "name": "stdout",
          "text": [
            "Original text:\n",
            "85233 FREE>Ringtone!Reply REAL\n",
            "\n",
            "Embedded version:\n"
          ]
        },
        {
          "output_type": "execute_result",
          "data": {
            "text/plain": [
              "<tf.Tensor: shape=(1, 15, 128), dtype=float32, numpy=\n",
              "array([[[ 0.04388005, -0.04186267,  0.02683913, ...,  0.04043469,\n",
              "          0.02209893, -0.00077416],\n",
              "        [-0.0299746 ,  0.04341941,  0.00361886, ..., -0.0392972 ,\n",
              "         -0.04846728,  0.04010352],\n",
              "        [-0.00997481,  0.00248851, -0.00907714, ...,  0.04844148,\n",
              "          0.01461795, -0.01491167],\n",
              "        ...,\n",
              "        [-0.01897813, -0.01297478,  0.02599012, ..., -0.0315019 ,\n",
              "          0.02169282, -0.01902304],\n",
              "        [-0.01897813, -0.01297478,  0.02599012, ..., -0.0315019 ,\n",
              "          0.02169282, -0.01902304],\n",
              "        [-0.01897813, -0.01297478,  0.02599012, ..., -0.0315019 ,\n",
              "          0.02169282, -0.01902304]]], dtype=float32)>"
            ]
          },
          "metadata": {},
          "execution_count": 81
        }
      ]
    },
    {
      "cell_type": "code",
      "metadata": {
        "colab": {
          "base_uri": "https://localhost:8080/"
        },
        "id": "ya3_n1xS8ZWz",
        "outputId": "1722c86b-fcc2-43c2-a5ea-b08757310515"
      },
      "source": [
        "# Check out a single token's embedding\n",
        "sample_embed[0][0]"
      ],
      "execution_count": null,
      "outputs": [
        {
          "output_type": "execute_result",
          "data": {
            "text/plain": [
              "<tf.Tensor: shape=(128,), dtype=float32, numpy=\n",
              "array([ 0.04388005, -0.04186267,  0.02683913, -0.00716706,  0.00783572,\n",
              "       -0.0030501 ,  0.03451211, -0.02109083, -0.02914596,  0.04826543,\n",
              "        0.03091084, -0.04759959, -0.02180872,  0.04147309,  0.0401338 ,\n",
              "        0.03125748,  0.04928492, -0.03460912,  0.03812032,  0.03992632,\n",
              "       -0.03095394,  0.04906521,  0.00493925,  0.04854352,  0.04287951,\n",
              "        0.00699922,  0.01170677,  0.02448717,  0.04885019, -0.04362352,\n",
              "       -0.02459912, -0.03935804, -0.04397475,  0.00503606,  0.03612936,\n",
              "       -0.01364027, -0.0455587 ,  0.03307037, -0.04934882, -0.04716563,\n",
              "       -0.0407251 , -0.03950778,  0.0114034 ,  0.01162971, -0.00256882,\n",
              "        0.0257658 ,  0.04668942,  0.04329658, -0.01881421,  0.04120215,\n",
              "        0.04180521,  0.00027103, -0.02395122, -0.02946438,  0.04604589,\n",
              "        0.02890344,  0.03069073,  0.02247642,  0.013228  , -0.02152485,\n",
              "       -0.04923732, -0.04632813, -0.00960699,  0.04898218, -0.04764621,\n",
              "        0.0157815 ,  0.04913567, -0.00111041,  0.04046566, -0.0468581 ,\n",
              "       -0.00328534,  0.03310902,  0.04731813,  0.003336  , -0.0147718 ,\n",
              "        0.01538258, -0.04419922,  0.00992476, -0.0441659 , -0.00716978,\n",
              "        0.02306056,  0.04194072, -0.0307835 , -0.02227972, -0.03727103,\n",
              "       -0.0232437 ,  0.04685933,  0.03096399, -0.00543458,  0.02796039,\n",
              "       -0.03990312, -0.006889  , -0.00724918, -0.03727563,  0.02704759,\n",
              "       -0.0150362 ,  0.00578256, -0.02051129,  0.00729234, -0.00744585,\n",
              "       -0.02491621, -0.04864711,  0.01963921,  0.04548358, -0.00674635,\n",
              "        0.00737172,  0.01725204, -0.040873  ,  0.04532209,  0.01906798,\n",
              "       -0.03647987, -0.02400361, -0.04389845, -0.01123849, -0.03901818,\n",
              "       -0.01292406,  0.03336095,  0.02824095,  0.04698742,  0.04655062,\n",
              "       -0.03575119,  0.01207691,  0.02665962, -0.04692778,  0.03871975,\n",
              "        0.04043469,  0.02209893, -0.00077416], dtype=float32)>"
            ]
          },
          "metadata": {},
          "execution_count": 82
        }
      ]
    },
    {
      "cell_type": "code",
      "metadata": {
        "id": "9qTaBa6n83ak"
      },
      "source": [
        "# Creating get_textvectorization_embedding function\n",
        "def get_textvectorization_embedding(sentence):\n",
        "    return embedding(text_vectorizer(sentence))"
      ],
      "execution_count": null,
      "outputs": []
    },
    {
      "cell_type": "code",
      "metadata": {
        "colab": {
          "base_uri": "https://localhost:8080/"
        },
        "id": "WATV4wPC9Pzk",
        "outputId": "1d21651c-4e80-4aad-a914-fadc84cfe391"
      },
      "source": [
        "# Testing our function \n",
        "sample_sentence = get_textvectorization_embedding('Cos i want it to be your thing')\n",
        "(sample_sentence == sample_embed).numpy().mean()"
      ],
      "execution_count": null,
      "outputs": [
        {
          "output_type": "execute_result",
          "data": {
            "text/plain": [
              "0.4666666666666667"
            ]
          },
          "metadata": {},
          "execution_count": 84
        }
      ]
    },
    {
      "cell_type": "markdown",
      "metadata": {
        "id": "tsM1E_IX8iXM"
      },
      "source": [
        "## Building an LSTM"
      ]
    },
    {
      "cell_type": "code",
      "metadata": {
        "id": "UCbBrvNU_GyS"
      },
      "source": [
        "# Create a lstm model\n",
        "inputs = layers.Input(shape=(1, ), dtype='string')\n",
        "x = text_vectorizer(inputs)\n",
        "x = embedding(x)\n",
        "x = layers.LSTM(256, return_sequences=True)(x)\n",
        "x = layers.LSTM(128, return_sequences=True)(x)\n",
        "x = layers.LSTM(64)(x)\n",
        "outputs = layers.Dense(1, activation='sigmoid')(x)\n",
        "model = tf.keras.Model(inputs, outputs, name='Model_LSTM')"
      ],
      "execution_count": null,
      "outputs": []
    },
    {
      "cell_type": "code",
      "metadata": {
        "colab": {
          "base_uri": "https://localhost:8080/"
        },
        "id": "hHL_k_oO_ynQ",
        "outputId": "b0f3c2ed-7cb6-4992-b906-258e40e071df"
      },
      "source": [
        "model.summary()"
      ],
      "execution_count": null,
      "outputs": [
        {
          "output_type": "stream",
          "name": "stdout",
          "text": [
            "Model: \"Model_LSTM\"\n",
            "_________________________________________________________________\n",
            "Layer (type)                 Output Shape              Param #   \n",
            "=================================================================\n",
            "input_3 (InputLayer)         [(None, 1)]               0         \n",
            "_________________________________________________________________\n",
            "text_vectorization_1 (TextVe (None, 15)                0         \n",
            "_________________________________________________________________\n",
            "embedding_1 (Embedding)      (None, 15, 128)           1280000   \n",
            "_________________________________________________________________\n",
            "lstm_6 (LSTM)                (None, 15, 256)           394240    \n",
            "_________________________________________________________________\n",
            "lstm_7 (LSTM)                (None, 15, 128)           197120    \n",
            "_________________________________________________________________\n",
            "lstm_8 (LSTM)                (None, 64)                49408     \n",
            "_________________________________________________________________\n",
            "dense_2 (Dense)              (None, 1)                 65        \n",
            "=================================================================\n",
            "Total params: 1,920,833\n",
            "Trainable params: 1,920,833\n",
            "Non-trainable params: 0\n",
            "_________________________________________________________________\n"
          ]
        }
      ]
    },
    {
      "cell_type": "markdown",
      "metadata": {
        "id": "cAQFC2W2COLL"
      },
      "source": [
        "## Compiling and Fitting the model"
      ]
    },
    {
      "cell_type": "code",
      "metadata": {
        "id": "mw2Pknl4_08n"
      },
      "source": [
        "# Compile model\n",
        "model.compile(loss=\"binary_crossentropy\",\n",
        "                optimizer=tf.keras.optimizers.Adam(),\n",
        "                metrics=[\"accuracy\"])"
      ],
      "execution_count": null,
      "outputs": []
    },
    {
      "cell_type": "code",
      "metadata": {
        "colab": {
          "base_uri": "https://localhost:8080/"
        },
        "id": "HCNNK5ls_3Mn",
        "outputId": "0e5a6392-1d3c-435f-c1a9-156dcaf4ddf9"
      },
      "source": [
        "history = model.fit(X_train, \n",
        "                    y_train, \n",
        "                    epochs=3, \n",
        "                    validation_data=(X_val, y_val), \n",
        "                    callbacks=[tf.keras.callbacks.ModelCheckpoint('model_checkpoint', name=model.name)])"
      ],
      "execution_count": null,
      "outputs": [
        {
          "output_type": "stream",
          "name": "stdout",
          "text": [
            "Epoch 1/3\n",
            "134/134 [==============================] - 37s 239ms/step - loss: 0.0118 - accuracy: 0.9974 - val_loss: 0.1299 - val_accuracy: 0.9662\n"
          ]
        },
        {
          "output_type": "stream",
          "name": "stderr",
          "text": [
            "WARNING:absl:Found untraced functions such as lstm_cell_6_layer_call_and_return_conditional_losses, lstm_cell_6_layer_call_fn, lstm_cell_7_layer_call_and_return_conditional_losses, lstm_cell_7_layer_call_fn, lstm_cell_8_layer_call_and_return_conditional_losses while saving (showing 5 of 15). These functions will not be directly callable after loading.\n"
          ]
        },
        {
          "output_type": "stream",
          "name": "stdout",
          "text": [
            "INFO:tensorflow:Assets written to: model_checkpoint/assets\n"
          ]
        },
        {
          "output_type": "stream",
          "name": "stderr",
          "text": [
            "INFO:tensorflow:Assets written to: model_checkpoint/assets\n"
          ]
        },
        {
          "output_type": "stream",
          "name": "stdout",
          "text": [
            "Epoch 2/3\n",
            "134/134 [==============================] - 18s 132ms/step - loss: 0.0043 - accuracy: 0.9991 - val_loss: 0.0893 - val_accuracy: 0.9747\n"
          ]
        },
        {
          "output_type": "stream",
          "name": "stderr",
          "text": [
            "WARNING:absl:Found untraced functions such as lstm_cell_6_layer_call_and_return_conditional_losses, lstm_cell_6_layer_call_fn, lstm_cell_7_layer_call_and_return_conditional_losses, lstm_cell_7_layer_call_fn, lstm_cell_8_layer_call_and_return_conditional_losses while saving (showing 5 of 15). These functions will not be directly callable after loading.\n"
          ]
        },
        {
          "output_type": "stream",
          "name": "stdout",
          "text": [
            "INFO:tensorflow:Assets written to: model_checkpoint/assets\n"
          ]
        },
        {
          "output_type": "stream",
          "name": "stderr",
          "text": [
            "INFO:tensorflow:Assets written to: model_checkpoint/assets\n"
          ]
        },
        {
          "output_type": "stream",
          "name": "stdout",
          "text": [
            "Epoch 3/3\n",
            "134/134 [==============================] - 18s 131ms/step - loss: 3.3199e-04 - accuracy: 1.0000 - val_loss: 0.1248 - val_accuracy: 0.9789\n"
          ]
        },
        {
          "output_type": "stream",
          "name": "stderr",
          "text": [
            "WARNING:absl:Found untraced functions such as lstm_cell_6_layer_call_and_return_conditional_losses, lstm_cell_6_layer_call_fn, lstm_cell_7_layer_call_and_return_conditional_losses, lstm_cell_7_layer_call_fn, lstm_cell_8_layer_call_and_return_conditional_losses while saving (showing 5 of 15). These functions will not be directly callable after loading.\n"
          ]
        },
        {
          "output_type": "stream",
          "name": "stdout",
          "text": [
            "INFO:tensorflow:Assets written to: model_checkpoint/assets\n"
          ]
        },
        {
          "output_type": "stream",
          "name": "stderr",
          "text": [
            "INFO:tensorflow:Assets written to: model_checkpoint/assets\n"
          ]
        }
      ]
    },
    {
      "cell_type": "markdown",
      "metadata": {
        "id": "JU7qHQhCCRx6"
      },
      "source": [
        "## Evaluating the model"
      ]
    },
    {
      "cell_type": "code",
      "metadata": {
        "colab": {
          "base_uri": "https://localhost:8080/"
        },
        "id": "za_KUhrbALpq",
        "outputId": "5ec2fbe6-8ba4-4ca9-e967-e2973f300ca2"
      },
      "source": [
        "model.evaluate(X_test, y_test)"
      ],
      "execution_count": null,
      "outputs": [
        {
          "output_type": "stream",
          "name": "stdout",
          "text": [
            "27/27 [==============================] - 1s 34ms/step - loss: 0.1248 - accuracy: 0.9773\n"
          ]
        },
        {
          "output_type": "execute_result",
          "data": {
            "text/plain": [
              "[0.12479067593812943, 0.9772727489471436]"
            ]
          },
          "metadata": {},
          "execution_count": 93
        }
      ]
    },
    {
      "cell_type": "code",
      "metadata": {
        "colab": {
          "base_uri": "https://localhost:8080/",
          "height": 754
        },
        "id": "9wbNEg3jCWpr",
        "outputId": "0296512c-3567-4664-f30e-9ac8c769bb80"
      },
      "source": [
        "# Plot the model\n",
        "from tensorflow.keras.utils import plot_model\n",
        "plot_model(model, show_shapes=True)"
      ],
      "execution_count": null,
      "outputs": [
        {
          "output_type": "execute_result",
          "data": {
            "image/png": "[encoded data removed]",
            "text/plain": [
              "<IPython.core.display.Image object>"
            ]
          },
          "metadata": {},
          "execution_count": 95
        }
      ]
    },
    {
      "cell_type": "code",
      "metadata": {
        "colab": {
          "base_uri": "https://localhost:8080/"
        },
        "id": "UVClUxjTCkQC",
        "outputId": "e08d4909-e9d5-4411-c202-f1ce70817c33"
      },
      "source": [
        "# Make predictions \n",
        "y_pred_probs = model.predict(X_test)\n",
        "y_pred_probs[:10], y_pred_probs.shape"
      ],
      "execution_count": null,
      "outputs": [
        {
          "output_type": "execute_result",
          "data": {
            "text/plain": [
              "(array([[9.0768814e-01],\n",
              "        [1.3994575e-03],\n",
              "        [1.2347779e-01],\n",
              "        [5.2835683e-05],\n",
              "        [9.9994218e-01],\n",
              "        [1.8768165e-05],\n",
              "        [2.9258859e-05],\n",
              "        [1.6349073e-05],\n",
              "        [1.5666412e-05],\n",
              "        [1.8863269e-05]], dtype=float32), (836, 1))"
            ]
          },
          "metadata": {},
          "execution_count": 104
        }
      ]
    },
    {
      "cell_type": "code",
      "metadata": {
        "colab": {
          "base_uri": "https://localhost:8080/"
        },
        "id": "Xg2bUq-eC22y",
        "outputId": "0680aaca-a63c-463e-9e95-f56a990d5a98"
      },
      "source": [
        "# Getting the predictions out of probabilities\n",
        "y_preds = tf.squeeze(tf.round(y_pred_probs)).numpy()\n",
        "y_preds[:10]"
      ],
      "execution_count": null,
      "outputs": [
        {
          "output_type": "execute_result",
          "data": {
            "text/plain": [
              "array([1., 0., 0., 0., 1., 0., 0., 0., 0., 0.], dtype=float32)"
            ]
          },
          "metadata": {},
          "execution_count": 111
        }
      ]
    },
    {
      "cell_type": "code",
      "metadata": {
        "colab": {
          "base_uri": "https://localhost:8080/"
        },
        "id": "LlZdcSNADOfa",
        "outputId": "93d395a1-e3cd-402d-c2ba-e2da85f0383f"
      },
      "source": [
        "y_preds.shape, y_test.shape"
      ],
      "execution_count": null,
      "outputs": [
        {
          "output_type": "execute_result",
          "data": {
            "text/plain": [
              "((836,), (836,))"
            ]
          },
          "metadata": {},
          "execution_count": 112
        }
      ]
    },
    {
      "cell_type": "code",
      "metadata": {
        "colab": {
          "base_uri": "https://localhost:8080/"
        },
        "id": "GAcXfLEEDpnS",
        "outputId": "3b01b5e3-9f13-4205-e3c2-b369e34215ac"
      },
      "source": [
        "# Make Confusion matrix\n",
        "cm = confusion_matrix(y_test, y_preds)\n",
        "cm"
      ],
      "execution_count": null,
      "outputs": [
        {
          "output_type": "execute_result",
          "data": {
            "text/plain": [
              "array([[719,   9],\n",
              "       [ 10,  98]])"
            ]
          },
          "metadata": {},
          "execution_count": 114
        }
      ]
    },
    {
      "cell_type": "code",
      "metadata": {
        "colab": {
          "base_uri": "https://localhost:8080/"
        },
        "id": "R8Jytp0vEGKS",
        "outputId": "a8990f66-0982-4a55-b4c9-bd54c18a3bb7"
      },
      "source": [
        "pd.Series(y_test).value_counts()"
      ],
      "execution_count": null,
      "outputs": [
        {
          "output_type": "execute_result",
          "data": {
            "text/plain": [
              "0    728\n",
              "1    108\n",
              "dtype: int64"
            ]
          },
          "metadata": {},
          "execution_count": 116
        }
      ]
    },
    {
      "cell_type": "markdown",
      "metadata": {
        "id": "xysil2IGFI_p"
      },
      "source": [
        "## Get the most wrong predictions"
      ]
    },
    {
      "cell_type": "code",
      "metadata": {
        "colab": {
          "base_uri": "https://localhost:8080/",
          "height": 424
        },
        "id": "ktkE3xYvEZKJ",
        "outputId": "975d6821-5794-4784-9ae7-7e40e4ac66e6"
      },
      "source": [
        "# Create a dataframe according to their predictions\n",
        "df_test_preds = pd.DataFrame({'sentence': X_test, \n",
        "                              'target': y_test, \n",
        "                              'pred':y_preds, \n",
        "                              'pred_probs': tf.squeeze(y_pred_probs, axis=0)})\n",
        "df_test_preds"
      ],
      "execution_count": null,
      "outputs": [
        {
          "output_type": "execute_result",
          "data": {
            "text/html": [
              "<div>\n",
              "<style scoped>\n",
              "    .dataframe tbody tr th:only-of-type {\n",
              "        vertical-align: middle;\n",
              "    }\n",
              "\n",
              "    .dataframe tbody tr th {\n",
              "        vertical-align: top;\n",
              "    }\n",
              "\n",
              "    .dataframe thead th {\n",
              "        text-align: right;\n",
              "    }\n",
              "</style>\n",
              "<table border=\"1\" class=\"dataframe\">\n",
              "  <thead>\n",
              "    <tr style=\"text-align: right;\">\n",
              "      <th></th>\n",
              "      <th>sentence</th>\n",
              "      <th>target</th>\n",
              "      <th>pred</th>\n",
              "      <th>pred_probs</th>\n",
              "    </tr>\n",
              "  </thead>\n",
              "  <tbody>\n",
              "    <tr>\n",
              "      <th>0</th>\n",
              "      <td>Funny fact Nobody teaches volcanoes 2 erupt, t...</td>\n",
              "      <td>0</td>\n",
              "      <td>1.0</td>\n",
              "      <td>0.907688</td>\n",
              "    </tr>\n",
              "    <tr>\n",
              "      <th>1</th>\n",
              "      <td>I sent my scores to sophas and i had to do sec...</td>\n",
              "      <td>0</td>\n",
              "      <td>0.0</td>\n",
              "      <td>0.001399</td>\n",
              "    </tr>\n",
              "    <tr>\n",
              "      <th>2</th>\n",
              "      <td>We know someone who you know that fancies you....</td>\n",
              "      <td>1</td>\n",
              "      <td>0.0</td>\n",
              "      <td>0.123478</td>\n",
              "    </tr>\n",
              "    <tr>\n",
              "      <th>3</th>\n",
              "      <td>Only if you promise your getting out as SOON a...</td>\n",
              "      <td>0</td>\n",
              "      <td>0.0</td>\n",
              "      <td>0.000053</td>\n",
              "    </tr>\n",
              "    <tr>\n",
              "      <th>4</th>\n",
              "      <td>Congratulations ur awarded either å£500 of CD ...</td>\n",
              "      <td>1</td>\n",
              "      <td>1.0</td>\n",
              "      <td>0.999942</td>\n",
              "    </tr>\n",
              "    <tr>\n",
              "      <th>...</th>\n",
              "      <td>...</td>\n",
              "      <td>...</td>\n",
              "      <td>...</td>\n",
              "      <td>...</td>\n",
              "    </tr>\n",
              "    <tr>\n",
              "      <th>831</th>\n",
              "      <td>IÛ÷m parked next to a MINI!!!! When are you c...</td>\n",
              "      <td>0</td>\n",
              "      <td>0.0</td>\n",
              "      <td>0.000053</td>\n",
              "    </tr>\n",
              "    <tr>\n",
              "      <th>832</th>\n",
              "      <td>Sorry my roommates took forever, it ok if I co...</td>\n",
              "      <td>0</td>\n",
              "      <td>0.0</td>\n",
              "      <td>0.000017</td>\n",
              "    </tr>\n",
              "    <tr>\n",
              "      <th>833</th>\n",
              "      <td>Daddy, shu shu is looking 4 u... U wan me 2 te...</td>\n",
              "      <td>0</td>\n",
              "      <td>0.0</td>\n",
              "      <td>0.000025</td>\n",
              "    </tr>\n",
              "    <tr>\n",
              "      <th>834</th>\n",
              "      <td>Smith waste da.i wanna gayle.</td>\n",
              "      <td>0</td>\n",
              "      <td>0.0</td>\n",
              "      <td>0.000023</td>\n",
              "    </tr>\n",
              "    <tr>\n",
              "      <th>835</th>\n",
              "      <td>on a Tuesday night r u 4 real</td>\n",
              "      <td>0</td>\n",
              "      <td>0.0</td>\n",
              "      <td>0.000058</td>\n",
              "    </tr>\n",
              "  </tbody>\n",
              "</table>\n",
              "<p>836 rows × 4 columns</p>\n",
              "</div>"
            ],
            "text/plain": [
              "                                              sentence  ...  pred_probs\n",
              "0    Funny fact Nobody teaches volcanoes 2 erupt, t...  ...    0.907688\n",
              "1    I sent my scores to sophas and i had to do sec...  ...    0.001399\n",
              "2    We know someone who you know that fancies you....  ...    0.123478\n",
              "3    Only if you promise your getting out as SOON a...  ...    0.000053\n",
              "4    Congratulations ur awarded either å£500 of CD ...  ...    0.999942\n",
              "..                                                 ...  ...         ...\n",
              "831  IÛ÷m parked next to a MINI!!!! When are you c...  ...    0.000053\n",
              "832  Sorry my roommates took forever, it ok if I co...  ...    0.000017\n",
              "833  Daddy, shu shu is looking 4 u... U wan me 2 te...  ...    0.000025\n",
              "834                      Smith waste da.i wanna gayle.  ...    0.000023\n",
              "835                      on a Tuesday night r u 4 real  ...    0.000058\n",
              "\n",
              "[836 rows x 4 columns]"
            ]
          },
          "metadata": {},
          "execution_count": 124
        }
      ]
    },
    {
      "cell_type": "code",
      "metadata": {
        "colab": {
          "base_uri": "https://localhost:8080/"
        },
        "id": "ny-aY2xmFBJy",
        "outputId": "5f64a60a-342b-471f-d8d9-29b4d9e4d5bd"
      },
      "source": [
        "df_test_preds['target'][1] == df_test_preds['pred'][1]"
      ],
      "execution_count": null,
      "outputs": [
        {
          "output_type": "execute_result",
          "data": {
            "text/plain": [
              "True"
            ]
          },
          "metadata": {},
          "execution_count": 125
        }
      ]
    },
    {
      "cell_type": "code",
      "metadata": {
        "colab": {
          "base_uri": "https://localhost:8080/",
          "height": 206
        },
        "id": "_Nh0K9qOFkFB",
        "outputId": "5aa931b4-e212-44e0-cbc3-e5a9f1a6a23b"
      },
      "source": [
        "# Get the most wrong sentences\n",
        "most_wrong = df_test_preds[df_test_preds['target'] !=\n",
        "                           df_test_preds['pred']].sort_values('pred_probs',\n",
        "                                                              ascending=False)\n",
        "most_wrong.head()"
      ],
      "execution_count": null,
      "outputs": [
        {
          "output_type": "execute_result",
          "data": {
            "text/html": [
              "<div>\n",
              "<style scoped>\n",
              "    .dataframe tbody tr th:only-of-type {\n",
              "        vertical-align: middle;\n",
              "    }\n",
              "\n",
              "    .dataframe tbody tr th {\n",
              "        vertical-align: top;\n",
              "    }\n",
              "\n",
              "    .dataframe thead th {\n",
              "        text-align: right;\n",
              "    }\n",
              "</style>\n",
              "<table border=\"1\" class=\"dataframe\">\n",
              "  <thead>\n",
              "    <tr style=\"text-align: right;\">\n",
              "      <th></th>\n",
              "      <th>sentence</th>\n",
              "      <th>target</th>\n",
              "      <th>pred</th>\n",
              "      <th>pred_probs</th>\n",
              "    </tr>\n",
              "  </thead>\n",
              "  <tbody>\n",
              "    <tr>\n",
              "      <th>268</th>\n",
              "      <td>Urgh, coach hot, smells of chip fat! Thanks ag...</td>\n",
              "      <td>0</td>\n",
              "      <td>1.0</td>\n",
              "      <td>0.999788</td>\n",
              "    </tr>\n",
              "    <tr>\n",
              "      <th>707</th>\n",
              "      <td>\\HI BABE UAWAKE?FEELLIKW SHIT.JUSTFOUND OUT VI...</td>\n",
              "      <td>0</td>\n",
              "      <td>1.0</td>\n",
              "      <td>0.996756</td>\n",
              "    </tr>\n",
              "    <tr>\n",
              "      <th>814</th>\n",
              "      <td>Whenevr ur sad, Whenevr ur gray, Remembr im he...</td>\n",
              "      <td>0</td>\n",
              "      <td>1.0</td>\n",
              "      <td>0.985806</td>\n",
              "    </tr>\n",
              "    <tr>\n",
              "      <th>161</th>\n",
              "      <td>Waqt se pehle or naseeb se zyada kisi ko kuch ...</td>\n",
              "      <td>0</td>\n",
              "      <td>1.0</td>\n",
              "      <td>0.985650</td>\n",
              "    </tr>\n",
              "    <tr>\n",
              "      <th>573</th>\n",
              "      <td>Alright i have a new goal now</td>\n",
              "      <td>0</td>\n",
              "      <td>1.0</td>\n",
              "      <td>0.975939</td>\n",
              "    </tr>\n",
              "  </tbody>\n",
              "</table>\n",
              "</div>"
            ],
            "text/plain": [
              "                                              sentence  ...  pred_probs\n",
              "268  Urgh, coach hot, smells of chip fat! Thanks ag...  ...    0.999788\n",
              "707  \\HI BABE UAWAKE?FEELLIKW SHIT.JUSTFOUND OUT VI...  ...    0.996756\n",
              "814  Whenevr ur sad, Whenevr ur gray, Remembr im he...  ...    0.985806\n",
              "161  Waqt se pehle or naseeb se zyada kisi ko kuch ...  ...    0.985650\n",
              "573                      Alright i have a new goal now  ...    0.975939\n",
              "\n",
              "[5 rows x 4 columns]"
            ]
          },
          "metadata": {},
          "execution_count": 128
        }
      ]
    },
    {
      "cell_type": "code",
      "metadata": {
        "colab": {
          "base_uri": "https://localhost:8080/"
        },
        "id": "tzCcXY0QGnmp",
        "outputId": "50a38cc3-c55f-4b2d-9ca2-26db46ac71b1"
      },
      "source": [
        "classes = encoder.classes_\n",
        "classes"
      ],
      "execution_count": null,
      "outputs": [
        {
          "output_type": "execute_result",
          "data": {
            "text/plain": [
              "array(['ham', 'spam'], dtype=object)"
            ]
          },
          "metadata": {},
          "execution_count": 130
        }
      ]
    },
    {
      "cell_type": "code",
      "metadata": {
        "colab": {
          "base_uri": "https://localhost:8080/"
        },
        "id": "-5H1q5LgFWhR",
        "outputId": "58b36444-611a-45d7-d458-52a2fe9eb7cd"
      },
      "source": [
        "# Check the false positives \n",
        "for row in most_wrong[:20].itertuples():\n",
        "    _, sentence, target, pred, pred_prob = row\n",
        "    print(f\"Target: {target}, Pred: {pred}, Prob: {pred_prob}\")\n",
        "    print(f\"Text: \")\n",
        "    print(sentence)\n",
        "    print('\\n' + '-'*60+ '\\n')"
      ],
      "execution_count": null,
      "outputs": [
        {
          "output_type": "stream",
          "name": "stdout",
          "text": [
            "Target: 0, Pred: 1.0, Prob: 0.9997881650924683\n",
            "Text: \n",
            "Urgh, coach hot, smells of chip fat! Thanks again, especially for the duvet (not a predictive text word).\n",
            "\n",
            "------------------------------------------------------------\n",
            "\n",
            "Target: 0, Pred: 1.0, Prob: 0.9967561960220337\n",
            "Text: \n",
            "\\HI BABE UAWAKE?FEELLIKW SHIT.JUSTFOUND OUT VIA ALETTER THATMUM GOTMARRIED 4thNOV.BEHIND OURBACKS åÐ FUCKINNICE!SELFISH\n",
            "\n",
            "------------------------------------------------------------\n",
            "\n",
            "Target: 0, Pred: 1.0, Prob: 0.9858063459396362\n",
            "Text: \n",
            "Whenevr ur sad, Whenevr ur gray, Remembr im here 2 listn 2 watevr u wanna say, Jus walk wid me a little while,&amp; I promise I'll bring back ur smile.:-)\n",
            "\n",
            "------------------------------------------------------------\n",
            "\n",
            "Target: 0, Pred: 1.0, Prob: 0.985649824142456\n",
            "Text: \n",
            "Waqt se pehle or naseeb se zyada kisi ko kuch nahi milta,Zindgi wo nahi he jo hum sochte hai Zindgi wo hai jo ham jeetey hai..........\n",
            "\n",
            "------------------------------------------------------------\n",
            "\n",
            "Target: 0, Pred: 1.0, Prob: 0.975939154624939\n",
            "Text: \n",
            "Alright i have a new goal now\n",
            "\n",
            "------------------------------------------------------------\n",
            "\n",
            "Target: 0, Pred: 1.0, Prob: 0.9742685556411743\n",
            "Text: \n",
            "Have you bookedthe hut? And also your time off? How are you by the way?\n",
            "\n",
            "------------------------------------------------------------\n",
            "\n",
            "Target: 0, Pred: 1.0, Prob: 0.9076881408691406\n",
            "Text: \n",
            "Funny fact Nobody teaches volcanoes 2 erupt, tsunamis 2 arise, hurricanes 2 sway aroundn no 1 teaches hw 2 choose a wife Natural disasters just happens\n",
            "\n",
            "------------------------------------------------------------\n",
            "\n",
            "Target: 0, Pred: 1.0, Prob: 0.7858713865280151\n",
            "Text: \n",
            "Oi. Ami parchi na re. Kicchu kaaj korte iccha korche na. Phone ta tul na. Plz. Plz.\n",
            "\n",
            "------------------------------------------------------------\n",
            "\n",
            "Target: 0, Pred: 1.0, Prob: 0.6435620188713074\n",
            "Text: \n",
            "Hi there. We have now moved in2 our pub . Would be great 2 c u if u cud come up.\n",
            "\n",
            "------------------------------------------------------------\n",
            "\n",
            "Target: 1, Pred: 0.0, Prob: 0.15292620658874512\n",
            "Text: \n",
            "Loans for any purpose even if you have Bad Credit! Tenants Welcome. Call NoWorriesLoans.com on 08717111821\n",
            "\n",
            "------------------------------------------------------------\n",
            "\n",
            "Target: 1, Pred: 0.0, Prob: 0.12347778677940369\n",
            "Text: \n",
            "We know someone who you know that fancies you. Call 09058097218 to find out who. POBox 6, LS15HB 150p\n",
            "\n",
            "------------------------------------------------------------\n",
            "\n",
            "Target: 1, Pred: 0.0, Prob: 0.02188858389854431\n",
            "Text: \n",
            "I'd like to tell you my deepest darkest fantasies. Call me 09094646631 just 60p/min. To stop texts call 08712460324 (nat rate)\n",
            "\n",
            "------------------------------------------------------------\n",
            "\n",
            "Target: 1, Pred: 0.0, Prob: 0.013076215982437134\n",
            "Text: \n",
            "Ever thought about living a good life with a perfect partner? Just txt back NAME and AGE to join the mobile community. (100p/SMS)\n",
            "\n",
            "------------------------------------------------------------\n",
            "\n",
            "Target: 1, Pred: 0.0, Prob: 0.007040917873382568\n",
            "Text: \n",
            "Ur balance is now å£600. Next question: Complete the landmark, Big, A. Bob, B. Barry or C. Ben ?. Text A, B or C to 83738. Good luck!\n",
            "\n",
            "------------------------------------------------------------\n",
            "\n",
            "Target: 1, Pred: 0.0, Prob: 0.00020369887351989746\n",
            "Text: \n",
            "Hello darling how are you today? I would love to have a chat, why dont you tell me what you look like and what you are in to sexy?\n",
            "\n",
            "------------------------------------------------------------\n",
            "\n",
            "Target: 1, Pred: 0.0, Prob: 6.518365262309089e-05\n",
            "Text: \n",
            "Hi I'm sue. I am 20 years old and work as a lapdancer. I love sex. Text me live - I'm i my bedroom now. text SUE to 89555. By TextOperator G2 1DA 150ppmsg 18+\n",
            "\n",
            "------------------------------------------------------------\n",
            "\n",
            "Target: 1, Pred: 0.0, Prob: 2.1242914954200387e-05\n",
            "Text: \n",
            "Hi its LUCY Hubby at meetins all day Fri & I will B alone at hotel U fancy cumin over? Pls leave msg 2day 09099726395 Lucy x Callså£1/minMobsmoreLKPOBOX177HP51FL\n",
            "\n",
            "------------------------------------------------------------\n",
            "\n",
            "Target: 1, Pred: 0.0, Prob: 2.0191913790768012e-05\n",
            "Text: \n",
            "08714712388 between 10am-7pm Cost 10p\n",
            "\n",
            "------------------------------------------------------------\n",
            "\n",
            "Target: 1, Pred: 0.0, Prob: 1.7392696463502944e-05\n",
            "Text: \n",
            "ringtoneking 84484\n",
            "\n",
            "------------------------------------------------------------\n",
            "\n"
          ]
        }
      ]
    },
    {
      "cell_type": "code",
      "metadata": {
        "id": "zmn52wVqG8gf"
      },
      "source": [
        "model.save('/content/drive/MyDrive/Colab Notebooks/Models/Spam-Ham')"
      ],
      "execution_count": null,
      "outputs": []
    }
  ]
}