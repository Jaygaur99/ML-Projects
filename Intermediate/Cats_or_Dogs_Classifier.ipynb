{
 "cells": [
  {
   "cell_type": "markdown",
   "metadata": {
    "colab_type": "text",
    "id": "3DR-eO17geWu"
   },
   "source": [
    "# Cats and Dog Classifier with CNN"
   ]
  },
  {
   "cell_type": "markdown",
   "metadata": {
    "colab_type": "text",
    "id": "EMefrVPCg-60"
   },
   "source": [
    "### Importing the libraries"
   ]
  },
  {
   "cell_type": "code",
   "execution_count": 1,
   "metadata": {
    "colab": {},
    "colab_type": "code",
    "id": "sCV30xyVhFbE"
   },
   "outputs": [],
   "source": [
    "import tensorflow as tf\n",
    "from keras.preprocessing.image import ImageDataGenerator"
   ]
  },
  {
   "cell_type": "code",
   "execution_count": 2,
   "metadata": {
    "colab": {},
    "colab_type": "code",
    "id": "FIleuCAjoFD8"
   },
   "outputs": [
    {
     "data": {
      "text/plain": [
       "'2.5.0'"
      ]
     },
     "execution_count": 2,
     "metadata": {},
     "output_type": "execute_result"
    }
   ],
   "source": [
    "tf.__version__"
   ]
  },
  {
   "cell_type": "markdown",
   "metadata": {
    "colab_type": "text",
    "id": "oxQxCBWyoGPE"
   },
   "source": [
    "## Part 1 - Data Preprocessing"
   ]
  },
  {
   "cell_type": "markdown",
   "metadata": {
    "colab_type": "text",
    "id": "MvE-heJNo3GG"
   },
   "source": [
    "### Preprocessing the Training set"
   ]
  },
  {
   "cell_type": "code",
   "execution_count": 3,
   "metadata": {
    "colab": {},
    "colab_type": "code",
    "id": "0koUcJMJpEBD"
   },
   "outputs": [
    {
     "name": "stdout",
     "output_type": "stream",
     "text": [
      "Found 8000 images belonging to 2 classes.\n"
     ]
    }
   ],
   "source": [
    "train_datagen = ImageDataGenerator(rescale = 1./255,\n",
    "                                   shear_range = 0.2,\n",
    "                                   zoom_range = 0.2,\n",
    "                                   horizontal_flip = True)\n",
    "training_set = train_datagen.flow_from_directory('dataset/training_set',\n",
    "                                                 target_size = (64, 64),\n",
    "                                                 batch_size = 32,\n",
    "                                                 class_mode = 'binary')"
   ]
  },
  {
   "cell_type": "markdown",
   "metadata": {
    "colab_type": "text",
    "id": "mrCMmGw9pHys"
   },
   "source": [
    "### Preprocessing the Test set"
   ]
  },
  {
   "cell_type": "code",
   "execution_count": 4,
   "metadata": {
    "colab": {},
    "colab_type": "code",
    "id": "SH4WzfOhpKc3"
   },
   "outputs": [
    {
     "name": "stdout",
     "output_type": "stream",
     "text": [
      "Found 2000 images belonging to 2 classes.\n"
     ]
    }
   ],
   "source": [
    "test_datagen = ImageDataGenerator(rescale = 1./255)\n",
    "test_set = test_datagen.flow_from_directory('dataset/test_set',\n",
    "                                            target_size = (64, 64),\n",
    "                                            batch_size = 32,\n",
    "                                            class_mode = 'binary')"
   ]
  },
  {
   "cell_type": "markdown",
   "metadata": {
    "colab_type": "text",
    "id": "af8O4l90gk7B"
   },
   "source": [
    "## Part 2 - Building the CNN"
   ]
  },
  {
   "cell_type": "markdown",
   "metadata": {
    "colab_type": "text",
    "id": "ces1gXY2lmoX"
   },
   "source": [
    "### Initialising the CNN"
   ]
  },
  {
   "cell_type": "code",
   "execution_count": 5,
   "metadata": {
    "colab": {},
    "colab_type": "code",
    "id": "SAUt4UMPlhLS"
   },
   "outputs": [],
   "source": [
    "cnn = tf.keras.models.Sequential()"
   ]
  },
  {
   "cell_type": "markdown",
   "metadata": {
    "colab_type": "text",
    "id": "u5YJj_XMl5LF"
   },
   "source": [
    "### Step 1 - Convolution"
   ]
  },
  {
   "cell_type": "code",
   "execution_count": 6,
   "metadata": {
    "colab": {},
    "colab_type": "code",
    "id": "XPzPrMckl-hV"
   },
   "outputs": [],
   "source": [
    "cnn.add(tf.keras.layers.Conv2D(filters=32, kernel_size=3, activation='relu', input_shape=[64, 64, 3]))"
   ]
  },
  {
   "cell_type": "markdown",
   "metadata": {
    "colab_type": "text",
    "id": "tf87FpvxmNOJ"
   },
   "source": [
    "### Step 2 - Pooling"
   ]
  },
  {
   "cell_type": "code",
   "execution_count": 7,
   "metadata": {
    "colab": {},
    "colab_type": "code",
    "id": "ncpqPl69mOac"
   },
   "outputs": [],
   "source": [
    "cnn.add(tf.keras.layers.MaxPool2D(pool_size=2, strides=2))"
   ]
  },
  {
   "cell_type": "markdown",
   "metadata": {
    "colab_type": "text",
    "id": "xaTOgD8rm4mU"
   },
   "source": [
    "### Adding a second convolutional layer"
   ]
  },
  {
   "cell_type": "code",
   "execution_count": 8,
   "metadata": {
    "colab": {},
    "colab_type": "code",
    "id": "i_-FZjn_m8gk"
   },
   "outputs": [],
   "source": [
    "cnn.add(tf.keras.layers.Conv2D(filters=32, kernel_size=3, activation='relu'))\n",
    "cnn.add(tf.keras.layers.MaxPool2D(pool_size=2, strides=2))"
   ]
  },
  {
   "cell_type": "markdown",
   "metadata": {
    "colab_type": "text",
    "id": "tmiEuvTunKfk"
   },
   "source": [
    "### Step 3 - Flattening"
   ]
  },
  {
   "cell_type": "code",
   "execution_count": 9,
   "metadata": {
    "colab": {},
    "colab_type": "code",
    "id": "6AZeOGCvnNZn"
   },
   "outputs": [],
   "source": [
    "cnn.add(tf.keras.layers.Flatten())"
   ]
  },
  {
   "cell_type": "markdown",
   "metadata": {
    "colab_type": "text",
    "id": "dAoSECOm203v"
   },
   "source": [
    "### Step 4 - Full Connection"
   ]
  },
  {
   "cell_type": "code",
   "execution_count": 10,
   "metadata": {
    "colab": {},
    "colab_type": "code",
    "id": "8GtmUlLd26Nq"
   },
   "outputs": [],
   "source": [
    "cnn.add(tf.keras.layers.Dense(units=128, activation='relu'))"
   ]
  },
  {
   "cell_type": "markdown",
   "metadata": {
    "colab_type": "text",
    "id": "yTldFvbX28Na"
   },
   "source": [
    "### Step 5 - Output Layer"
   ]
  },
  {
   "cell_type": "code",
   "execution_count": 11,
   "metadata": {
    "colab": {},
    "colab_type": "code",
    "id": "1p_Zj1Mc3Ko_"
   },
   "outputs": [],
   "source": [
    "cnn.add(tf.keras.layers.Dense(units=1, activation='sigmoid'))"
   ]
  },
  {
   "cell_type": "markdown",
   "metadata": {
    "colab_type": "text",
    "id": "D6XkI90snSDl"
   },
   "source": [
    "## Part 3 - Training the CNN"
   ]
  },
  {
   "cell_type": "markdown",
   "metadata": {
    "colab_type": "text",
    "id": "vfrFQACEnc6i"
   },
   "source": [
    "### Compiling the CNN"
   ]
  },
  {
   "cell_type": "code",
   "execution_count": 12,
   "metadata": {
    "colab": {},
    "colab_type": "code",
    "id": "NALksrNQpUlJ"
   },
   "outputs": [],
   "source": [
    "cnn.compile(optimizer = 'adam', loss = 'binary_crossentropy', metrics = ['accuracy'])"
   ]
  },
  {
   "cell_type": "markdown",
   "metadata": {
    "colab_type": "text",
    "id": "ehS-v3MIpX2h"
   },
   "source": [
    "### Training the CNN on the Training set and evaluating it on the Test set"
   ]
  },
  {
   "cell_type": "code",
   "execution_count": null,
   "metadata": {
    "colab": {},
    "colab_type": "code",
    "id": "XUj1W4PJptta",
    "scrolled": true
   },
   "outputs": [
    {
     "name": "stdout",
     "output_type": "stream",
     "text": [
      "Epoch 1/25\n",
      "250/250 [==============================] - 224s 885ms/step - loss: 0.6840 - accuracy: 0.5702 - val_loss: 0.6762 - val_accuracy: 0.5790\n",
      "Epoch 2/25\n",
      "250/250 [==============================] - 98s 390ms/step - loss: 0.6496 - accuracy: 0.6141 - val_loss: 0.6326 - val_accuracy: 0.6580\n",
      "Epoch 3/25\n",
      "250/250 [==============================] - 93s 374ms/step - loss: 0.6256 - accuracy: 0.6546 - val_loss: 0.6265 - val_accuracy: 0.6585\n",
      "Epoch 4/25\n",
      "250/250 [==============================] - 87s 349ms/step - loss: 0.5883 - accuracy: 0.6871 - val_loss: 0.5549 - val_accuracy: 0.7215\n",
      "Epoch 5/25\n",
      "250/250 [==============================] - 86s 342ms/step - loss: 0.5616 - accuracy: 0.7070 - val_loss: 0.5852 - val_accuracy: 0.7090\n",
      "Epoch 6/25\n",
      "250/250 [==============================] - 85s 340ms/step - loss: 0.5248 - accuracy: 0.7349 - val_loss: 0.5371 - val_accuracy: 0.7310\n",
      "Epoch 7/25\n",
      "250/250 [==============================] - 84s 334ms/step - loss: 0.4998 - accuracy: 0.7549 - val_loss: 0.5190 - val_accuracy: 0.7475\n",
      "Epoch 8/25\n",
      "250/250 [==============================] - 84s 338ms/step - loss: 0.4779 - accuracy: 0.7665 - val_loss: 0.5195 - val_accuracy: 0.7610\n",
      "Epoch 9/25\n",
      "250/250 [==============================] - 84s 338ms/step - loss: 0.4567 - accuracy: 0.7828 - val_loss: 0.4956 - val_accuracy: 0.7685\n",
      "Epoch 10/25\n",
      "250/250 [==============================] - 87s 347ms/step - loss: 0.4421 - accuracy: 0.7909 - val_loss: 0.5158 - val_accuracy: 0.7550\n",
      "Epoch 11/25\n",
      "250/250 [==============================] - 91s 362ms/step - loss: 0.4183 - accuracy: 0.8030 - val_loss: 0.4846 - val_accuracy: 0.7855\n",
      "Epoch 12/25\n",
      "250/250 [==============================] - 67s 269ms/step - loss: 0.4011 - accuracy: 0.8177 - val_loss: 0.4740 - val_accuracy: 0.7855\n",
      "Epoch 13/25\n",
      "250/250 [==============================] - 84s 336ms/step - loss: 0.3859 - accuracy: 0.8239 - val_loss: 0.4767 - val_accuracy: 0.7845\n",
      "Epoch 14/25\n",
      "250/250 [==============================] - 87s 347ms/step - loss: 0.3621 - accuracy: 0.8316 - val_loss: 0.4890 - val_accuracy: 0.7795\n",
      "Epoch 15/25\n",
      "250/250 [==============================] - 87s 350ms/step - loss: 0.3487 - accuracy: 0.8466 - val_loss: 0.4887 - val_accuracy: 0.7890\n",
      "Epoch 16/25\n",
      "250/250 [==============================] - 85s 338ms/step - loss: 0.3331 - accuracy: 0.8539 - val_loss: 0.5168 - val_accuracy: 0.7845\n",
      "Epoch 17/25\n",
      "250/250 [==============================] - 85s 339ms/step - loss: 0.3067 - accuracy: 0.8669 - val_loss: 0.5672 - val_accuracy: 0.7755\n",
      "Epoch 18/25\n",
      "250/250 [==============================] - 89s 357ms/step - loss: 0.2899 - accuracy: 0.8752 - val_loss: 0.5396 - val_accuracy: 0.7880\n",
      "Epoch 19/25\n",
      "250/250 [==============================] - 91s 365ms/step - loss: 0.2725 - accuracy: 0.8848 - val_loss: 0.5573 - val_accuracy: 0.7760\n",
      "Epoch 20/25\n",
      "250/250 [==============================] - 90s 361ms/step - loss: 0.2622 - accuracy: 0.8945 - val_loss: 0.5295 - val_accuracy: 0.7985\n",
      "Epoch 21/25\n",
      "250/250 [==============================] - 88s 350ms/step - loss: 0.2421 - accuracy: 0.8961 - val_loss: 0.6347 - val_accuracy: 0.7670\n",
      "Epoch 22/25\n",
      "250/250 [==============================] - 86s 346ms/step - loss: 0.2181 - accuracy: 0.9136 - val_loss: 0.6156 - val_accuracy: 0.7920\n",
      "Epoch 23/25\n",
      "250/250 [==============================] - 85s 341ms/step - loss: 0.2030 - accuracy: 0.9186 - val_loss: 0.6063 - val_accuracy: 0.7890\n",
      "Epoch 24/25\n",
      "250/250 [==============================] - 85s 339ms/step - loss: 0.1956 - accuracy: 0.9205 - val_loss: 0.6185 - val_accuracy: 0.7955\n",
      "Epoch 25/25\n",
      "177/250 [====================>.........] - ETA: 21s - loss: 0.1798 - accuracy: 0.9296"
     ]
    }
   ],
   "source": [
    "cnn.fit(x = training_set, validation_data = test_set, epochs = 25)"
   ]
  },
  {
   "cell_type": "markdown",
   "metadata": {
    "colab_type": "text",
    "id": "U3PZasO0006Z"
   },
   "source": [
    "## Part 4 - Making a single prediction"
   ]
  },
  {
   "cell_type": "code",
   "execution_count": null,
   "metadata": {
    "colab": {},
    "colab_type": "code",
    "id": "gsSiWEJY1BPB"
   },
   "outputs": [],
   "source": [
    "import numpy as np\n",
    "from keras.preprocessing import image\n",
    "test_image = image.load_img('dataset/single_prediction/cat_or_dog_1.jpg', target_size = (64, 64))\n",
    "test_image = image.img_to_array(test_image)\n",
    "test_image = np.expand_dims(test_image, axis = 0)\n",
    "result = cnn.predict(test_image)\n",
    "training_set.class_indices\n",
    "if result[0][0] == 1:\n",
    "    prediction = 'dog'\n",
    "else:\n",
    "    prediction = 'cat'"
   ]
  },
  {
   "cell_type": "code",
   "execution_count": null,
   "metadata": {
    "colab": {},
    "colab_type": "code",
    "id": "ED9KB3I54c1i"
   },
   "outputs": [],
   "source": [
    "print(prediction)"
   ]
  },
  {
   "cell_type": "markdown",
   "metadata": {},
   "source": [
    "# Saving model"
   ]
  },
  {
   "cell_type": "code",
   "execution_count": null,
   "metadata": {},
   "outputs": [],
   "source": [
    "model.save('my_model')"
   ]
  }
 ],
 "metadata": {
  "colab": {
   "authorship_tag": "ABX9TyON0YxX/oky4tPbqCLnFjWD",
   "collapsed_sections": [],
   "name": "convolutional_neural_network.ipynb",
   "provenance": [],
   "toc_visible": true
  },
  "kernelspec": {
   "display_name": "Python 3 (ipykernel)",
   "language": "python",
   "name": "python3"
  },
  "language_info": {
   "codemirror_mode": {
    "name": "ipython",
    "version": 3
   },
   "file_extension": ".py",
   "mimetype": "text/x-python",
   "name": "python",
   "nbconvert_exporter": "python",
   "pygments_lexer": "ipython3",
   "version": "3.8.11"
  }
 },
 "nbformat": 4,
 "nbformat_minor": 1
}
